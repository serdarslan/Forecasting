{
 "cells": [
  {
   "cell_type": "code",
   "execution_count": 18,
   "id": "60639c86-8ba9-4daa-993e-cdf79dd3b696",
   "metadata": {},
   "outputs": [
    {
     "name": "stdout",
     "output_type": "stream",
     "text": [
      "Populating the interactive namespace from numpy and matplotlib\n"
     ]
    }
   ],
   "source": [
    "import pandas as pd\n",
    "import datetime\n",
    "import csv\n",
    "import re\n",
    "from pyFTS.partitioners import CMeans, Grid, FCM, Huarng, Entropy, Util as pUtil\n",
    "from pyFTS.common import Membership as mf\n",
    "from pyFTS.benchmarks import benchmarks as bchmk\n",
    "from pyFTS.data import Enrollments\n",
    "from pyFTS.common import Transformations\n",
    "from pyFTS.data import TAIEX\n",
    "import warnings\n",
    "warnings.filterwarnings('ignore')\n",
    "\n",
    "\n",
    "import matplotlib.pylab as plt\n",
    "\n",
    "%pylab inline"
   ]
  },
  {
   "cell_type": "code",
   "execution_count": 17,
   "id": "888e2fb8-6ed2-4dff-821b-75a8f9a069da",
   "metadata": {},
   "outputs": [
    {
     "name": "stdout",
     "output_type": "stream",
     "text": [
      "(293, 22)\n"
     ]
    }
   ],
   "source": [
    "df = pd.read_csv(\"data/covid.csv\", sep=';')\n",
    "dataset = np.array(df[\"Vaka\"])\n",
    "tdiff = Transformations.Differential(1)\n",
    "dataset_diff = tdiff.apply(dataset)\n",
    "fs = Grid.GridPartitioner(data=dataset, npart=20, func = mf.trimf)\n",
    "size = len(fs)\n",
    "dsize = len(dataset)\n",
    "memship = np.zeros([dsize, size + 2])\n",
    "j = 0\n",
    "for t in dataset:\n",
    "    for i in range(0,size):\n",
    "        m = fs[i].membership(t)\n",
    "        #print(j,i,t,m)\n",
    "        memship[j][i] = m\n",
    "        #if (m>0):\n",
    "            #print(j,i,m)\n",
    "    i = i + 1\n",
    "    memship[j][i] = t\n",
    "    j = j + 1\n",
    "j = size + 1  #target index\n",
    "for i in range(0, dsize - 1):\n",
    "     memship[i][j] = dataset[i+1]\n",
    "memship = memship[:-1]      \n",
    "\n",
    "print(memship.shape)\n",
    "df3 = pd.DataFrame(memship, columns=['A0', 'A1', 'A2', 'A3', 'A4', 'A5', 'A6', 'A7', 'A8', 'A9', 'A10', 'A11', 'A12', 'A13', 'A14', 'A15', 'A16', 'A17', 'A18', 'A19', 'Val', 'Target'])\n",
    "df3.to_csv(\"data/covid_fts.csv\", index=False)"
   ]
  },
  {
   "cell_type": "code",
   "execution_count": 21,
   "id": "ca7a4197-a415-46ff-ad84-ce2050531c63",
   "metadata": {},
   "outputs": [
    {
     "name": "stdout",
     "output_type": "stream",
     "text": [
      "(1712, 22)\n"
     ]
    }
   ],
   "source": [
    "#Nikkei225 seti\n",
    "df = pd.read_csv(\"data/N225.csv\", sep=',')\n",
    "dataset = np.array(df[\"Close\"])\n",
    "tdiff = Transformations.Differential(1)\n",
    "dataset_diff = tdiff.apply(dataset)\n",
    "fs = Grid.GridPartitioner(data=dataset, npart=20, func = mf.trimf)\n",
    "size = len(fs)\n",
    "dsize = len(dataset)\n",
    "memship = np.zeros([dsize, size + 2])\n",
    "j = 0\n",
    "for t in dataset:\n",
    "    for i in range(0,size):\n",
    "        m = fs[i].membership(t)\n",
    "        #print(j,i,t,m)\n",
    "        memship[j][i] = m\n",
    "        #if (m>0):\n",
    "            #print(j,i,m)\n",
    "    i = i + 1\n",
    "    memship[j][i] = t\n",
    "    j = j + 1\n",
    "j = size + 1  #target index\n",
    "for i in range(0, dsize - 1):\n",
    "     memship[i][j] = dataset[i+1]\n",
    "memship = memship[:-1]      \n",
    "\n",
    "print(memship.shape)\n",
    "df3 = pd.DataFrame(memship, columns=['A0', 'A1', 'A2', 'A3', 'A4', 'A5', 'A6', 'A7', 'A8', 'A9', 'A10', 'A11', 'A12', 'A13', 'A14', 'A15', 'A16', 'A17', 'A18', 'A19', 'Val', 'Target'])\n",
    "df3.to_csv(\"data/N225_fts.csv\", index=False)"
   ]
  },
  {
   "cell_type": "code",
   "execution_count": null,
   "id": "78dcc4d5-3ffd-4c8b-8901-b8077557a413",
   "metadata": {},
   "outputs": [],
   "source": []
  }
 ],
 "metadata": {
  "kernelspec": {
   "display_name": "Python 3 (ipykernel)",
   "language": "python",
   "name": "python3"
  },
  "language_info": {
   "codemirror_mode": {
    "name": "ipython",
    "version": 3
   },
   "file_extension": ".py",
   "mimetype": "text/x-python",
   "name": "python",
   "nbconvert_exporter": "python",
   "pygments_lexer": "ipython3",
   "version": "3.8.11"
  }
 },
 "nbformat": 4,
 "nbformat_minor": 5
}
