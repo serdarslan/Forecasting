{
 "cells": [
  {
   "cell_type": "code",
   "execution_count": 1,
   "id": "f4cdd7f4-5ee8-439a-b995-c7ea01cc6560",
   "metadata": {},
   "outputs": [
    {
     "name": "stdout",
     "output_type": "stream",
     "text": [
      "Populating the interactive namespace from numpy and matplotlib\n"
     ]
    }
   ],
   "source": [
    "import pandas as pd\n",
    "import datetime\n",
    "import csv\n",
    "import re\n",
    "from pyFTS.partitioners import CMeans, Grid, FCM, Huarng, Entropy, Util as pUtil\n",
    "from pyFTS.common import Membership as mf\n",
    "from pyFTS.benchmarks import benchmarks as bchmk\n",
    "from pyFTS.data import Enrollments\n",
    "from pyFTS.common import Transformations\n",
    "from pyFTS.data import TAIEX\n",
    "import warnings\n",
    "warnings.filterwarnings('ignore')\n",
    "\n",
    "\n",
    "import matplotlib.pylab as plt\n",
    "\n",
    "%pylab inline"
   ]
  },
  {
   "cell_type": "code",
   "execution_count": 11,
   "id": "9251b02f-bf37-4cf6-ae28-cf05548ae828",
   "metadata": {},
   "outputs": [],
   "source": [
    "tdiff = Transformations.Differential(1)\n",
    "dataset = TAIEX.get_data()\n",
    "dataset_diff = tdiff.apply(dataset)"
   ]
  },
  {
   "cell_type": "code",
   "execution_count": 14,
   "id": "60b168f2-54cf-4f24-822f-5b24c33eea11",
   "metadata": {},
   "outputs": [
    {
     "data": {
      "text/plain": [
       "array([7092.71 , 6985.745, 6901.91 , ..., 8380.09 , 8479.855, 8469.235])"
      ]
     },
     "execution_count": 14,
     "metadata": {},
     "output_type": "execute_result"
    }
   ],
   "source": [
    "dataset"
   ]
  },
  {
   "cell_type": "code",
   "execution_count": 7,
   "id": "1b038ace-0b36-4b7f-96f3-9723b4339bc0",
   "metadata": {},
   "outputs": [],
   "source": [
    "df = TAIEX.get_dataframe()\n",
    "df.head(4)\n",
    "df.to_csv(\"data/taiex_all.csv\")"
   ]
  },
  {
   "cell_type": "code",
   "execution_count": 6,
   "id": "23bf0e3d-1a30-4856-8e02-08ad84f80eca",
   "metadata": {},
   "outputs": [
    {
     "data": {
      "text/html": [
       "<div>\n",
       "<style scoped>\n",
       "    .dataframe tbody tr th:only-of-type {\n",
       "        vertical-align: middle;\n",
       "    }\n",
       "\n",
       "    .dataframe tbody tr th {\n",
       "        vertical-align: top;\n",
       "    }\n",
       "\n",
       "    .dataframe thead th {\n",
       "        text-align: right;\n",
       "    }\n",
       "</style>\n",
       "<table border=\"1\" class=\"dataframe\">\n",
       "  <thead>\n",
       "    <tr style=\"text-align: right;\">\n",
       "      <th></th>\n",
       "      <th>Date</th>\n",
       "      <th>Openly</th>\n",
       "      <th>Highest</th>\n",
       "      <th>Lowermost</th>\n",
       "      <th>Close</th>\n",
       "      <th>Volume</th>\n",
       "      <th>avg</th>\n",
       "    </tr>\n",
       "  </thead>\n",
       "  <tbody>\n",
       "    <tr>\n",
       "      <th>5250</th>\n",
       "      <td>2015-11-19</td>\n",
       "      <td>8382.09</td>\n",
       "      <td>8477.20</td>\n",
       "      <td>8357.20</td>\n",
       "      <td>8477.20</td>\n",
       "      <td>1.802003e+09</td>\n",
       "      <td>8417.200</td>\n",
       "    </tr>\n",
       "    <tr>\n",
       "      <th>5251</th>\n",
       "      <td>2015-11-20</td>\n",
       "      <td>8472.65</td>\n",
       "      <td>8484.06</td>\n",
       "      <td>8434.33</td>\n",
       "      <td>8465.45</td>\n",
       "      <td>1.592154e+09</td>\n",
       "      <td>8459.195</td>\n",
       "    </tr>\n",
       "    <tr>\n",
       "      <th>5252</th>\n",
       "      <td>2015-11-23</td>\n",
       "      <td>8472.24</td>\n",
       "      <td>8497.83</td>\n",
       "      <td>8436.72</td>\n",
       "      <td>8472.74</td>\n",
       "      <td>1.542516e+09</td>\n",
       "      <td>8467.275</td>\n",
       "    </tr>\n",
       "    <tr>\n",
       "      <th>5253</th>\n",
       "      <td>2015-11-24</td>\n",
       "      <td>8472.24</td>\n",
       "      <td>8497.83</td>\n",
       "      <td>8397.44</td>\n",
       "      <td>8400.14</td>\n",
       "      <td>1.660775e+09</td>\n",
       "      <td>8447.635</td>\n",
       "    </tr>\n",
       "    <tr>\n",
       "      <th>5254</th>\n",
       "      <td>2015-11-25</td>\n",
       "      <td>8411.16</td>\n",
       "      <td>8510.70</td>\n",
       "      <td>8411.16</td>\n",
       "      <td>8479.90</td>\n",
       "      <td>1.736365e+09</td>\n",
       "      <td>8460.930</td>\n",
       "    </tr>\n",
       "    <tr>\n",
       "      <th>5255</th>\n",
       "      <td>2015-11-26</td>\n",
       "      <td>8411.16</td>\n",
       "      <td>8510.70</td>\n",
       "      <td>8411.16</td>\n",
       "      <td>8484.90</td>\n",
       "      <td>1.678366e+09</td>\n",
       "      <td>8460.930</td>\n",
       "    </tr>\n",
       "    <tr>\n",
       "      <th>5256</th>\n",
       "      <td>2015-11-27</td>\n",
       "      <td>8493.18</td>\n",
       "      <td>8505.08</td>\n",
       "      <td>8397.49</td>\n",
       "      <td>8398.40</td>\n",
       "      <td>1.456662e+09</td>\n",
       "      <td>8451.285</td>\n",
       "    </tr>\n",
       "    <tr>\n",
       "      <th>5257</th>\n",
       "      <td>2015-11-30</td>\n",
       "      <td>8359.27</td>\n",
       "      <td>8420.68</td>\n",
       "      <td>8339.50</td>\n",
       "      <td>8414.84</td>\n",
       "      <td>3.452344e+09</td>\n",
       "      <td>8380.090</td>\n",
       "    </tr>\n",
       "    <tr>\n",
       "      <th>5258</th>\n",
       "      <td>2015-12-01</td>\n",
       "      <td>8475.96</td>\n",
       "      <td>8497.19</td>\n",
       "      <td>8462.52</td>\n",
       "      <td>8482.99</td>\n",
       "      <td>2.030303e+09</td>\n",
       "      <td>8479.855</td>\n",
       "    </tr>\n",
       "    <tr>\n",
       "      <th>5259</th>\n",
       "      <td>2015-12-02</td>\n",
       "      <td>8475.96</td>\n",
       "      <td>8497.19</td>\n",
       "      <td>8441.28</td>\n",
       "      <td>8457.40</td>\n",
       "      <td>1.952180e+09</td>\n",
       "      <td>8469.235</td>\n",
       "    </tr>\n",
       "  </tbody>\n",
       "</table>\n",
       "</div>"
      ],
      "text/plain": [
       "           Date   Openly  Highest  Lowermost    Close        Volume       avg\n",
       "5250 2015-11-19  8382.09  8477.20    8357.20  8477.20  1.802003e+09  8417.200\n",
       "5251 2015-11-20  8472.65  8484.06    8434.33  8465.45  1.592154e+09  8459.195\n",
       "5252 2015-11-23  8472.24  8497.83    8436.72  8472.74  1.542516e+09  8467.275\n",
       "5253 2015-11-24  8472.24  8497.83    8397.44  8400.14  1.660775e+09  8447.635\n",
       "5254 2015-11-25  8411.16  8510.70    8411.16  8479.90  1.736365e+09  8460.930\n",
       "5255 2015-11-26  8411.16  8510.70    8411.16  8484.90  1.678366e+09  8460.930\n",
       "5256 2015-11-27  8493.18  8505.08    8397.49  8398.40  1.456662e+09  8451.285\n",
       "5257 2015-11-30  8359.27  8420.68    8339.50  8414.84  3.452344e+09  8380.090\n",
       "5258 2015-12-01  8475.96  8497.19    8462.52  8482.99  2.030303e+09  8479.855\n",
       "5259 2015-12-02  8475.96  8497.19    8441.28  8457.40  1.952180e+09  8469.235"
      ]
     },
     "execution_count": 6,
     "metadata": {},
     "output_type": "execute_result"
    }
   ],
   "source": [
    "df.tail(10)"
   ]
  },
  {
   "cell_type": "code",
   "execution_count": 4,
   "id": "10d42312-d76d-4034-a6ad-d9ba28113b53",
   "metadata": {},
   "outputs": [
    {
     "data": {
      "text/plain": [
       "[<matplotlib.lines.Line2D at 0x23255923820>]"
      ]
     },
     "execution_count": 4,
     "metadata": {},
     "output_type": "execute_result"
    },
    {
     "data": {
      "image/png": "[encoded data removed]",
      "text/plain": [
       "<Figure size 720x360 with 2 Axes>"
      ]
     },
     "metadata": {
      "needs_background": "light"
     },
     "output_type": "display_data"
    }
   ],
   "source": [
    "fig, ax = plt.subplots(nrows=2, ncols=1, figsize=[10,5])\n",
    "ax[0].plot(dataset)\n",
    "ax[1].plot(dataset_diff)"
   ]
  },
  {
   "cell_type": "code",
   "execution_count": 5,
   "id": "e0654d29-546e-4003-be5a-02b02d6d8d9a",
   "metadata": {},
   "outputs": [
    {
     "name": "stdout",
     "output_type": "stream",
     "text": [
      "Grid:\n",
      "A0: trimf([2720.220125, 3126.4335, 3532.6468750000004])\n",
      "A1: trimf([3126.4335, 3532.6468750000004, 3938.8602500000006])\n",
      "A2: trimf([3532.6468750000004, 3938.8602500000006, 4345.073625000001])\n",
      "A3: trimf([3938.8602500000006, 4345.073625000001, 4751.287000000001])\n",
      "A4: trimf([4345.073625000001, 4751.287000000001, 5157.500375000001])\n",
      "A5: trimf([4751.287000000001, 5157.500375000001, 5563.713750000002])\n",
      "A6: trimf([5157.500375000001, 5563.713750000002, 5969.927125000002])\n",
      "A7: trimf([5563.713750000002, 5969.927125000002, 6376.140500000002])\n",
      "A8: trimf([5969.927125000002, 6376.140500000002, 6782.3538750000025])\n",
      "A9: trimf([6376.140500000002, 6782.3538750000025, 7188.567250000003])\n",
      "A10: trimf([6782.3538750000025, 7188.567250000003, 7594.780625000003])\n",
      "A11: trimf([7188.567250000003, 7594.780625000003, 8000.994000000003])\n",
      "A12: trimf([7594.780625000003, 8000.994000000003, 8407.207375000004])\n",
      "A13: trimf([8000.994000000003, 8407.207375000004, 8813.420750000003])\n",
      "A14: trimf([8407.207375000005, 8813.420750000005, 9219.634125000004])\n",
      "A15: trimf([8813.420750000005, 9219.634125000004, 9625.847500000003])\n",
      "A16: trimf([9219.634125000004, 9625.847500000003, 10032.060875000003])\n",
      "A17: trimf([9625.847500000005, 10032.060875000005, 10438.274250000004])\n",
      "A18: trimf([10032.060875000006, 10438.274250000006, 10844.487625000005])\n",
      "A19: trimf([10438.274250000006, 10844.487625000005, 11250.701000000005])\n",
      "\n"
     ]
    }
   ],
   "source": [
    "fs = Grid.GridPartitioner(data=dataset, npart=20, func = mf.trimf)\n",
    "print(fs)"
   ]
  },
  {
   "cell_type": "code",
   "execution_count": null,
   "id": "e2a9fc31-94c6-4edf-a5e4-33d98f223a88",
   "metadata": {},
   "outputs": [],
   "source": [
    "dataset"
   ]
  },
  {
   "cell_type": "code",
   "execution_count": 6,
   "id": "5f3fb901-cae9-479c-bd59-c73cb09d2beb",
   "metadata": {},
   "outputs": [
    {
     "name": "stdout",
     "output_type": "stream",
     "text": [
      "(5259, 22)\n"
     ]
    }
   ],
   "source": [
    "size = len(fs)\n",
    "dsize = len(dataset)\n",
    "memship = np.zeros([dsize, size + 2])\n",
    "j = 0\n",
    "for t in dataset:\n",
    "    for i in range(0,size):\n",
    "        m = fs[i].membership(t)\n",
    "        #print(j,i,t,m)\n",
    "        memship[j][i] = m\n",
    "        #if (m>0):\n",
    "            #print(j,i,m)\n",
    "    i = i + 1\n",
    "    memship[j][i] = t\n",
    "    j = j + 1\n",
    "j = size + 1  #target index\n",
    "for i in range(0, dsize - 1):\n",
    "     memship[i][j] = dataset[i+1]\n",
    "memship = memship[:-1]      \n",
    "\n",
    "print(memship.shape)"
   ]
  },
  {
   "cell_type": "code",
   "execution_count": null,
   "id": "4f6480f3-169a-4934-b3d9-02beaa2de509",
   "metadata": {},
   "outputs": [],
   "source": [
    "np.set_printoptions(threshold=sys.maxsize, precision=9, suppress=True)\n",
    "print(memship)"
   ]
  },
  {
   "cell_type": "code",
   "execution_count": 18,
   "id": "a34ba3c9-b4ff-40de-b297-804c8bb99aff",
   "metadata": {},
   "outputs": [],
   "source": [
    "df = pd.DataFrame(memship, columns=['A0', 'A1', 'A2', 'A3', 'A4', 'A5', 'A6', 'A7', 'A8', 'A9', 'A10', 'A11', 'A12', 'A13', 'A14', 'A15', 'A16', 'A17', 'A18', 'A19', 'Val', 'Target'])\n",
    "df.to_csv(\"data/taeix_lstm_input.csv\", index=False)"
   ]
  },
  {
   "cell_type": "code",
   "execution_count": 15,
   "id": "27098f13-47cf-4de0-9c40-4acecde8424c",
   "metadata": {},
   "outputs": [],
   "source": [
    "from numpy import savetxt\n",
    "savetxt('data/taeix_lstm_input.csv', memship, delimiter=',', fmt='%f')"
   ]
  },
  {
   "cell_type": "code",
   "execution_count": null,
   "id": "72df989a-82e2-4517-8a33-d0483672002a",
   "metadata": {},
   "outputs": [],
   "source": [
    "#enrollment verisi için 22 satır var sadece\n",
    "enroll_data = Enrollments.get_data()\n",
    "tdiff = Transformations.Differential(1)\n",
    "fs = Grid.GridPartitioner(data=enroll_data, npart=30, func = mf.trimf)\n",
    "#fs = CMeans.CMeansPartitioner(data=train, npart=10, membership_function = mf.gaussmf)\n",
    "\n",
    "#print(fs)\n",
    "size = len(fs)\n",
    "memship = np.zeros([len(enroll_data), size])\n",
    "j = 0\n",
    "for t in enroll_data:\n",
    "    for i in range(0,size):\n",
    "        m = fs[i].membership(t)\n",
    "        memship[j][i] = m\n",
    "    j = j + 1\n",
    "np.set_printoptions(threshold=sys.maxsize)\n",
    "print(memship.shape)"
   ]
  },
  {
   "cell_type": "code",
   "execution_count": null,
   "id": "537be4d1-496a-4797-9dbf-f9543e44a3ae",
   "metadata": {},
   "outputs": [],
   "source": [
    "from pyFTS.models import chen\n",
    "model = chen.ConventionalFTS(partitioner=fs)\n",
    "model.fit(dataset)\n",
    "print(model)\n"
   ]
  },
  {
   "cell_type": "code",
   "execution_count": 8,
   "id": "f0f5e2bb-b458-4ca7-b11e-d34eb34fb112",
   "metadata": {},
   "outputs": [
    {
     "data": {
      "text/html": [
       "<div>\n",
       "<style scoped>\n",
       "    .dataframe tbody tr th:only-of-type {\n",
       "        vertical-align: middle;\n",
       "    }\n",
       "\n",
       "    .dataframe tbody tr th {\n",
       "        vertical-align: top;\n",
       "    }\n",
       "\n",
       "    .dataframe thead th {\n",
       "        text-align: right;\n",
       "    }\n",
       "</style>\n",
       "<table border=\"1\" class=\"dataframe\">\n",
       "  <thead>\n",
       "    <tr style=\"text-align: right;\">\n",
       "      <th></th>\n",
       "      <th>Unnamed: 0</th>\n",
       "      <th>Date</th>\n",
       "      <th>Openly</th>\n",
       "      <th>Highest</th>\n",
       "      <th>Lowermost</th>\n",
       "      <th>Close</th>\n",
       "      <th>Volume</th>\n",
       "      <th>avg</th>\n",
       "    </tr>\n",
       "  </thead>\n",
       "  <tbody>\n",
       "    <tr>\n",
       "      <th>0</th>\n",
       "      <td>1090</td>\n",
       "      <td>1999-01-05</td>\n",
       "      <td>6210.41</td>\n",
       "      <td>6310.41</td>\n",
       "      <td>6111.64</td>\n",
       "      <td>6152.43</td>\n",
       "      <td>NaN</td>\n",
       "      <td>6211.025</td>\n",
       "    </tr>\n",
       "    <tr>\n",
       "      <th>1</th>\n",
       "      <td>1091</td>\n",
       "      <td>1999-01-06</td>\n",
       "      <td>6082.02</td>\n",
       "      <td>6280.93</td>\n",
       "      <td>5988.06</td>\n",
       "      <td>6199.91</td>\n",
       "      <td>NaN</td>\n",
       "      <td>6134.495</td>\n",
       "    </tr>\n",
       "    <tr>\n",
       "      <th>2</th>\n",
       "      <td>1092</td>\n",
       "      <td>1999-01-07</td>\n",
       "      <td>6280.38</td>\n",
       "      <td>6409.55</td>\n",
       "      <td>6181.62</td>\n",
       "      <td>6404.31</td>\n",
       "      <td>NaN</td>\n",
       "      <td>6295.585</td>\n",
       "    </tr>\n",
       "    <tr>\n",
       "      <th>3</th>\n",
       "      <td>1093</td>\n",
       "      <td>1999-01-08</td>\n",
       "      <td>6371.34</td>\n",
       "      <td>6492.87</td>\n",
       "      <td>6371.34</td>\n",
       "      <td>6421.75</td>\n",
       "      <td>NaN</td>\n",
       "      <td>6432.105</td>\n",
       "    </tr>\n",
       "  </tbody>\n",
       "</table>\n",
       "</div>"
      ],
      "text/plain": [
       "   Unnamed: 0        Date   Openly  Highest  Lowermost    Close  Volume  \\\n",
       "0        1090  1999-01-05  6210.41  6310.41    6111.64  6152.43     NaN   \n",
       "1        1091  1999-01-06  6082.02  6280.93    5988.06  6199.91     NaN   \n",
       "2        1092  1999-01-07  6280.38  6409.55    6181.62  6404.31     NaN   \n",
       "3        1093  1999-01-08  6371.34  6492.87    6371.34  6421.75     NaN   \n",
       "\n",
       "        avg  \n",
       "0  6211.025  \n",
       "1  6134.495  \n",
       "2  6295.585  \n",
       "3  6432.105  "
      ]
     },
     "execution_count": 8,
     "metadata": {},
     "output_type": "execute_result"
    }
   ],
   "source": [
    "df = pd.read_csv(\"data/taiex_99-03.csv\")\n",
    "df.head(4)"
   ]
  },
  {
   "cell_type": "code",
   "execution_count": 10,
   "id": "43fc32d7-c855-4652-ade0-cea30375aa7a",
   "metadata": {},
   "outputs": [
    {
     "data": {
      "text/html": [
       "<div>\n",
       "<style scoped>\n",
       "    .dataframe tbody tr th:only-of-type {\n",
       "        vertical-align: middle;\n",
       "    }\n",
       "\n",
       "    .dataframe tbody tr th {\n",
       "        vertical-align: top;\n",
       "    }\n",
       "\n",
       "    .dataframe thead th {\n",
       "        text-align: right;\n",
       "    }\n",
       "</style>\n",
       "<table border=\"1\" class=\"dataframe\">\n",
       "  <thead>\n",
       "    <tr style=\"text-align: right;\">\n",
       "      <th></th>\n",
       "      <th>avg</th>\n",
       "    </tr>\n",
       "  </thead>\n",
       "  <tbody>\n",
       "    <tr>\n",
       "      <th>0</th>\n",
       "      <td>6211.025</td>\n",
       "    </tr>\n",
       "    <tr>\n",
       "      <th>1</th>\n",
       "      <td>6134.495</td>\n",
       "    </tr>\n",
       "    <tr>\n",
       "      <th>2</th>\n",
       "      <td>6295.585</td>\n",
       "    </tr>\n",
       "    <tr>\n",
       "      <th>3</th>\n",
       "      <td>6432.105</td>\n",
       "    </tr>\n",
       "  </tbody>\n",
       "</table>\n",
       "</div>"
      ],
      "text/plain": [
       "        avg\n",
       "0  6211.025\n",
       "1  6134.495\n",
       "2  6295.585\n",
       "3  6432.105"
      ]
     },
     "execution_count": 10,
     "metadata": {},
     "output_type": "execute_result"
    }
   ],
   "source": [
    "df = df[['avg']]\n",
    "df.head(4)        "
   ]
  },
  {
   "cell_type": "code",
   "execution_count": 19,
   "id": "e38e0899-311f-4dae-ae45-affa90666861",
   "metadata": {},
   "outputs": [
    {
     "data": {
      "text/plain": [
       "(1225,)"
      ]
     },
     "execution_count": 19,
     "metadata": {},
     "output_type": "execute_result"
    }
   ],
   "source": [
    "dataset = np.array(df[\"avg\"])\n",
    "dataset.shape"
   ]
  },
  {
   "cell_type": "code",
   "execution_count": 20,
   "id": "6299b7cb-d976-4ac7-852e-abf45cc62a90",
   "metadata": {},
   "outputs": [],
   "source": [
    "tdiff = Transformations.Differential(1)\n",
    "dataset_diff = tdiff.apply(dataset)"
   ]
  },
  {
   "cell_type": "code",
   "execution_count": 21,
   "id": "c443ea57-fadf-483b-9136-ade5b9ceea89",
   "metadata": {},
   "outputs": [
    {
     "name": "stdout",
     "output_type": "stream",
     "text": [
      "Grid:\n",
      "A0: trimf([2720.220125, 3126.4335, 3532.6468750000004])\n",
      "A1: trimf([3126.4335, 3532.6468750000004, 3938.8602500000006])\n",
      "A2: trimf([3532.6468750000004, 3938.8602500000006, 4345.073625000001])\n",
      "A3: trimf([3938.8602500000006, 4345.073625000001, 4751.287000000001])\n",
      "A4: trimf([4345.073625000001, 4751.287000000001, 5157.500375000001])\n",
      "A5: trimf([4751.287000000001, 5157.500375000001, 5563.713750000002])\n",
      "A6: trimf([5157.500375000001, 5563.713750000002, 5969.927125000002])\n",
      "A7: trimf([5563.713750000002, 5969.927125000002, 6376.140500000002])\n",
      "A8: trimf([5969.927125000002, 6376.140500000002, 6782.3538750000025])\n",
      "A9: trimf([6376.140500000002, 6782.3538750000025, 7188.567250000003])\n",
      "A10: trimf([6782.3538750000025, 7188.567250000003, 7594.780625000003])\n",
      "A11: trimf([7188.567250000003, 7594.780625000003, 8000.994000000003])\n",
      "A12: trimf([7594.780625000003, 8000.994000000003, 8407.207375000004])\n",
      "A13: trimf([8000.994000000003, 8407.207375000004, 8813.420750000003])\n",
      "A14: trimf([8407.207375000005, 8813.420750000005, 9219.634125000004])\n",
      "A15: trimf([8813.420750000005, 9219.634125000004, 9625.847500000003])\n",
      "A16: trimf([9219.634125000004, 9625.847500000003, 10032.060875000003])\n",
      "A17: trimf([9625.847500000005, 10032.060875000005, 10438.274250000004])\n",
      "A18: trimf([10032.060875000006, 10438.274250000006, 10844.487625000005])\n",
      "A19: trimf([10438.274250000006, 10844.487625000005, 11250.701000000005])\n",
      "\n"
     ]
    }
   ],
   "source": [
    "fs = Grid.GridPartitioner(data=dataset, npart=20, func = mf.trimf)\n",
    "print(fs)"
   ]
  },
  {
   "cell_type": "code",
   "execution_count": 22,
   "id": "efd3e6be-45f8-4d37-8a91-62a2526c7984",
   "metadata": {},
   "outputs": [
    {
     "name": "stdout",
     "output_type": "stream",
     "text": [
      "(1224, 22)\n"
     ]
    }
   ],
   "source": [
    "size = len(fs)\n",
    "dsize = len(dataset)\n",
    "memship = np.zeros([dsize, size + 2])\n",
    "j = 0\n",
    "for t in dataset:\n",
    "    for i in range(0,size):\n",
    "        m = fs[i].membership(t)\n",
    "        #print(j,i,t,m)\n",
    "        memship[j][i] = m\n",
    "        #if (m>0):\n",
    "            #print(j,i,m)\n",
    "    i = i + 1\n",
    "    memship[j][i] = t\n",
    "    j = j + 1\n",
    "j = size + 1  #target index\n",
    "for i in range(0, dsize - 1):\n",
    "     memship[i][j] = dataset[i+1]\n",
    "memship = memship[:-1]      \n",
    "\n",
    "print(memship.shape)"
   ]
  },
  {
   "cell_type": "code",
   "execution_count": null,
   "id": "b012065e-5e6e-4b8d-bf64-8bc0acc50f63",
   "metadata": {},
   "outputs": [],
   "source": [
    "np.set_printoptions(threshold=sys.maxsize, precision=9, suppress=True)\n",
    "print(memship)"
   ]
  },
  {
   "cell_type": "code",
   "execution_count": 26,
   "id": "ad17c310-b28b-4e4b-b51c-0242aefe172e",
   "metadata": {},
   "outputs": [],
   "source": [
    "df2 = pd.DataFrame(memship, columns=['A0', 'A1', 'A2', 'A3', 'A4', 'A5', 'A6', 'A7', 'A8', 'A9', 'A10', 'A11', 'A12', 'A13', 'A14', 'A15', 'A16', 'A17', 'A18', 'A19', 'Val', 'Target'])\n",
    "df2.to_csv(\"data/taiex_ready_99_03.csv\", index=False)"
   ]
  },
  {
   "cell_type": "code",
   "execution_count": 27,
   "id": "ac13b91d-5ba6-4c11-b2bf-04a6ad4b4dd3",
   "metadata": {},
   "outputs": [
    {
     "name": "stdout",
     "output_type": "stream",
     "text": [
      "(1474, 22)\n"
     ]
    }
   ],
   "source": [
    "df = pd.read_csv(\"data/taiex_99-04.csv\")\n",
    "dataset = np.array(df[\"avg\"])\n",
    "tdiff = Transformations.Differential(1)\n",
    "dataset_diff = tdiff.apply(dataset)\n",
    "fs = Grid.GridPartitioner(data=dataset, npart=20, func = mf.trimf)\n",
    "size = len(fs)\n",
    "dsize = len(dataset)\n",
    "memship = np.zeros([dsize, size + 2])\n",
    "j = 0\n",
    "for t in dataset:\n",
    "    for i in range(0,size):\n",
    "        m = fs[i].membership(t)\n",
    "        #print(j,i,t,m)\n",
    "        memship[j][i] = m\n",
    "        #if (m>0):\n",
    "            #print(j,i,m)\n",
    "    i = i + 1\n",
    "    memship[j][i] = t\n",
    "    j = j + 1\n",
    "j = size + 1  #target index\n",
    "for i in range(0, dsize - 1):\n",
    "     memship[i][j] = dataset[i+1]\n",
    "memship = memship[:-1]      \n",
    "\n",
    "print(memship.shape)\n",
    "df3 = pd.DataFrame(memship, columns=['A0', 'A1', 'A2', 'A3', 'A4', 'A5', 'A6', 'A7', 'A8', 'A9', 'A10', 'A11', 'A12', 'A13', 'A14', 'A15', 'A16', 'A17', 'A18', 'A19', 'Val', 'Target'])\n",
    "df3.to_csv(\"data/taiex_ready_99_04.csv\", index=False)"
   ]
  },
  {
   "cell_type": "code",
   "execution_count": 6,
   "id": "b3cbbb93-74e9-4bc7-b2d6-ac057755ea2c",
   "metadata": {},
   "outputs": [
    {
     "name": "stdout",
     "output_type": "stream",
     "text": [
      "(249, 22)\n"
     ]
    }
   ],
   "source": [
    "df = pd.read_csv(\"data/taiex_2004.csv\")\n",
    "dataset = np.array(df[\"avg\"])\n",
    "tdiff = Transformations.Differential(1)\n",
    "dataset_diff = tdiff.apply(dataset)\n",
    "fs = Grid.GridPartitioner(data=dataset, npart=20, func = mf.trimf)\n",
    "size = len(fs)\n",
    "dsize = len(dataset)\n",
    "memship = np.zeros([dsize, size + 2])\n",
    "j = 0\n",
    "for t in dataset:\n",
    "    for i in range(0,size):\n",
    "        m = fs[i].membership(t)\n",
    "        #print(j,i,t,m)\n",
    "        memship[j][i] = m\n",
    "        #if (m>0):\n",
    "            #print(j,i,m)\n",
    "    i = i + 1\n",
    "    memship[j][i] = t\n",
    "    j = j + 1\n",
    "j = size + 1  #target index\n",
    "for i in range(0, dsize - 1):\n",
    "     memship[i][j] = dataset[i+1]\n",
    "memship = memship[:-1]      \n",
    "\n",
    "print(memship.shape)\n",
    "df3 = pd.DataFrame(memship, columns=['A0', 'A1', 'A2', 'A3', 'A4', 'A5', 'A6', 'A7', 'A8', 'A9', 'A10', 'A11', 'A12', 'A13', 'A14', 'A15', 'A16', 'A17', 'A18', 'A19', 'Val', 'Target'])\n",
    "df3.to_csv(\"data/taiex_ready_2004.csv\", index=False)"
   ]
  },
  {
   "cell_type": "code",
   "execution_count": null,
   "id": "33a1aea5-ef4d-4102-b0f2-2b42b7493acd",
   "metadata": {},
   "outputs": [],
   "source": []
  }
 ],
 "metadata": {
  "kernelspec": {
   "display_name": "Python 3",
   "language": "python",
   "name": "python3"
  },
  "language_info": {
   "codemirror_mode": {
    "name": "ipython",
    "version": 3
   },
   "file_extension": ".py",
   "mimetype": "text/x-python",
   "name": "python",
   "nbconvert_exporter": "python",
   "pygments_lexer": "ipython3",
   "version": "3.8.10"
  }
 },
 "nbformat": 4,
 "nbformat_minor": 5
}
