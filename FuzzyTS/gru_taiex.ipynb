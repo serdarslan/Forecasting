{
 "cells": [
  {
   "cell_type": "code",
   "execution_count": null,
   "id": "d942904f-7fcf-4f28-8c73-0ed468ceab9a",
   "metadata": {},
   "outputs": [],
   "source": [
    "import pandas as pd\n",
    "import datetime\n",
    "import csv\n",
    "import re\n",
    "import numpy as np\n",
    "import warnings\n",
    "warnings.filterwarnings('ignore')\n",
    "from tensorflow.keras import models, layers, preprocessing as kprocessing\n",
    "import sys, traceback\n",
    "from sklearn.preprocessing import MinMaxScaler\n",
    "from sklearn.preprocessing import LabelEncoder\n",
    "from sklearn.metrics import mean_squared_error\n",
    "\n",
    "import tensorflow as tf\n",
    "from datetime import datetime\n",
    "import matplotlib.pylab as plt\n",
    "\n",
    "%pylab inline"
   ]
  },
  {
   "cell_type": "code",
   "execution_count": null,
   "id": "0be46373-c485-498b-96f3-6370e0609176",
   "metadata": {},
   "outputs": [],
   "source": [
    "dataset = pd.read_csv(\"data/taeix_lstm_input.csv\")\n",
    "values = dataset.values\n",
    "dataset.head(4)"
   ]
  },
  {
   "cell_type": "code",
   "execution_count": null,
   "id": "4b23a7ca-5b29-4b17-a151-9b9feadea511",
   "metadata": {},
   "outputs": [],
   "source": [
    "values = values.astype('float32')"
   ]
  },
  {
   "cell_type": "code",
   "execution_count": null,
   "id": "27757b2c-2a5e-49cb-afdd-169ec05d7768",
   "metadata": {},
   "outputs": [],
   "source": [
    "# normalizing input features\n",
    "scaler = MinMaxScaler(feature_range=(0, 1))\n",
    "scaled = scaler.fit_transform(values)\n",
    "scaled =pd.DataFrame(scaled)"
   ]
  },
  {
   "cell_type": "code",
   "execution_count": null,
   "id": "82de5590-7fe3-4ac4-906d-8fa20c05585c",
   "metadata": {},
   "outputs": [],
   "source": [
    "values.shape"
   ]
  },
  {
   "cell_type": "code",
   "execution_count": null,
   "id": "6faec929-12e5-44a1-8893-70d0c124b239",
   "metadata": {},
   "outputs": [],
   "source": [
    "size = len(scaled)\n",
    "train_size = int(size * 0.8)\n",
    "test_size = size - train_size\n",
    "c_size = len(scaled[0])\n",
    "X_train = scaled[:train_size]\n",
    "X_test = scaled[train_size:]\n",
    "y_train = X_train.iloc[:,-1:]\n",
    "y_test = X_test.iloc[:,-1:]\n",
    "X_train = X_train.iloc[: , :-1]\n",
    "X_test = X_test.iloc[: , :-1]\n",
    "type(X_train)"
   ]
  },
  {
   "cell_type": "code",
   "execution_count": null,
   "id": "b703a871-2727-4319-8a8c-4a8982b4e302",
   "metadata": {},
   "outputs": [],
   "source": [
    "X_train2 = X_train.values\n",
    "X_train2 = X_train2.reshape((X_train2.shape[0], 1, X_train2.shape[1]))\n",
    "#y_train2 = y_train.values\n",
    "#y_train2 = y_train2.reshape((y_train2.shape[0], 1, y_train2.shape[1]))\n",
    "X_test2 = X_test.values\n",
    "X_test2 = X_test2.reshape((X_test2.shape[0], 1, X_test2.shape[1]))\n",
    "#y_test2 = y_test.values\n",
    "#y_test2 = y_test2.reshape((y_test2.shape[0], 1, y_test2.shape[1]))"
   ]
  },
  {
   "cell_type": "code",
   "execution_count": null,
   "id": "1c9f31a5-86c1-4013-9648-34ab582dc406",
   "metadata": {},
   "outputs": [],
   "source": [
    "X_test"
   ]
  },
  {
   "cell_type": "code",
   "execution_count": null,
   "id": "d9da3b5a-e802-4856-829b-36ce7792cf21",
   "metadata": {},
   "outputs": [],
   "source": [
    "print(X_train2.shape)\n",
    "print(y_train2.shape)\n",
    "print(y_test.shape)\n",
    "print(y_test2.shape)"
   ]
  },
  {
   "cell_type": "code",
   "execution_count": null,
   "id": "eef3d980-0be4-4ff6-994e-ab9979d2f469",
   "metadata": {},
   "outputs": [],
   "source": [
    "u = X_train2.shape[2]\n",
    "i = X_train2.shape[1]\n",
    "print(u,i)\n",
    "lstm_model = models.Sequential()\n",
    "\n",
    "lstm_model.add(layers.LSTM(units=50, return_sequences = True, activation='tanh', input_shape=(i, u)))\n",
    "lstm_model.add(layers.Dropout(0.2))\n",
    "#print(\"2\")\n",
    "lstm_model.add(layers.LSTM(units=50, return_sequences = True))\n",
    "lstm_model.add(layers.Dropout(0.2))\n",
    "\n",
    "lstm_model.add(layers.Dense(1))\n",
    "lstm_model.compile(optimizer='adam', loss='mse')\n",
    "#print(\"6\")\n",
    "lstm_model.summary()"
   ]
  },
  {
   "cell_type": "code",
   "execution_count": null,
   "id": "c74f2d9b-5f34-490d-9271-78d53cc4da33",
   "metadata": {},
   "outputs": [],
   "source": [
    "lstm_model.fit(X_train2, y_train, epochs = 10, batch_size = 32)"
   ]
  },
  {
   "cell_type": "code",
   "execution_count": null,
   "id": "96f8de7c-260b-477f-9eab-68cb6c7f7a28",
   "metadata": {},
   "outputs": [],
   "source": [
    "predicted_value= lstm_model.predict(X_test2)\n",
    "predicted_value.shape"
   ]
  },
  {
   "cell_type": "code",
   "execution_count": null,
   "id": "be0679af-e386-4f6b-a21a-fc8b42e57721",
   "metadata": {},
   "outputs": [],
   "source": [
    "yhat = list()\n",
    "for p in predicted_value:\n",
    "    yhat.append(p[0])\n",
    "#yhat"
   ]
  },
  {
   "cell_type": "code",
   "execution_count": null,
   "id": "f45ac3f3-9e84-4456-945d-5c509f2f4b51",
   "metadata": {},
   "outputs": [],
   "source": [
    "X_test2 = X_test2.reshape((X_test2.shape[0], X_test2.shape[2]))\n",
    "\n",
    "#print(X_test2.shape)"
   ]
  },
  {
   "cell_type": "code",
   "execution_count": null,
   "id": "54c2e32f-4c61-4415-9e46-3104bd0ff668",
   "metadata": {},
   "outputs": [],
   "source": [
    "inv_yhat = concatenate(( X_test2[:, :], predicted_value[:,0]), axis=1)\n",
    "#inv_yhat.shape"
   ]
  },
  {
   "cell_type": "code",
   "execution_count": null,
   "id": "4f9994ab-a6b9-413e-80ee-b4c84795784d",
   "metadata": {},
   "outputs": [],
   "source": [
    "inv_yhat = scaler.inverse_transform(inv_yhat)\n",
    "inv_yhat = inv_yhat[:,-1]\n",
    "#inv_yhat"
   ]
  },
  {
   "cell_type": "code",
   "execution_count": null,
   "id": "4741bce8-56f4-4e79-b752-c3a87c03c2ef",
   "metadata": {},
   "outputs": [],
   "source": [
    "y_test2 = y_test.values\n",
    "# invert scaling for actual\n",
    "y_test2 = y_test2.reshape((len(y_test2), 1))\n",
    "inv_y = concatenate((X_test2[:, :], y_test2), axis=1)\n",
    "inv_y = scaler.inverse_transform(inv_y)\n",
    "inv_y = inv_y[:,-1]\n",
    "#inv_y\n"
   ]
  },
  {
   "cell_type": "code",
   "execution_count": null,
   "id": "1269567e-b373-40ff-adc9-30ebc2915215",
   "metadata": {},
   "outputs": [],
   "source": [
    "# calculate RMSE\n",
    "rmse = sqrt(mean_squared_error(inv_y, inv_yhat))\n",
    "print('Test RMSE: %.3f' % rmse)\n"
   ]
  },
  {
   "cell_type": "code",
   "execution_count": null,
   "id": "9c7a9eee-8228-4d8d-af40-c96771d8eac9",
   "metadata": {},
   "outputs": [],
   "source": [
    "\n"
   ]
  },
  {
   "cell_type": "code",
   "execution_count": null,
   "id": "4637cb0d-07eb-4e69-a0cf-fb4afcf644fa",
   "metadata": {},
   "outputs": [],
   "source": []
  },
  {
   "cell_type": "code",
   "execution_count": null,
   "id": "44fc71d6-ee8a-4892-8bbf-9923afa4c0fa",
   "metadata": {},
   "outputs": [],
   "source": [
    "actual = y_test.reset_index(drop=True)\n",
    "actual"
   ]
  },
  {
   "cell_type": "code",
   "execution_count": null,
   "id": "cebd478d-bed5-4692-aefe-9c8e19e54a31",
   "metadata": {},
   "outputs": [],
   "source": [
    "pred = pd.DataFrame(predicted_value[:,0,0], columns=['21'])\n",
    "pred"
   ]
  },
  {
   "cell_type": "code",
   "execution_count": null,
   "id": "c78eb3cf-9bc8-4937-87c1-f785d3e6d90f",
   "metadata": {},
   "outputs": [],
   "source": [
    "plt.plot(pred, color= 'red')\n",
    "plt.plot(actual, color='green')\n",
    "plt.title(\"Opening price of stocks sold\")\n",
    "plt.xlabel(\"Time (latest-> oldest)\")\n",
    "plt.ylabel(\"Stock Opening Price\")\n",
    "plt.show()"
   ]
  },
  {
   "cell_type": "code",
   "execution_count": null,
   "id": "1ceca81d-7e27-4bad-911d-74622eb0c179",
   "metadata": {},
   "outputs": [],
   "source": [
    "x = scaler.inverse_transform(y_test)\n",
    "x"
   ]
  },
  {
   "cell_type": "code",
   "execution_count": null,
   "id": "24cbd3e3-6acd-4252-b9ac-8a93fb3c218a",
   "metadata": {},
   "outputs": [],
   "source": []
  }
 ],
 "metadata": {
  "kernelspec": {
   "display_name": "Python 3",
   "language": "python",
   "name": "python3"
  },
  "language_info": {
   "codemirror_mode": {
    "name": "ipython",
    "version": 3
   },
   "file_extension": ".py",
   "mimetype": "text/x-python",
   "name": "python",
   "nbconvert_exporter": "python",
   "pygments_lexer": "ipython3",
   "version": "3.8.10"
  }
 },
 "nbformat": 4,
 "nbformat_minor": 5
}
